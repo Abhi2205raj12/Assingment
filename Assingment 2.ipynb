{
 "cells": [
  {
   "cell_type": "markdown",
   "id": "5d524d1b-dc0c-4bda-976f-61c9b79fd74a",
   "metadata": {},
   "source": [
    "Ques 1: Refer the below variable:\n",
    "x = 'a'\n",
    "Here, is x a character type or string type variable? Support your answer with an explanation."
   ]
  },
  {
   "cell_type": "markdown",
   "id": "5f4c1a32-42d0-4797-bc5e-5d9be0a9a59d",
   "metadata": {},
   "source": [
    "x='a'"
   ]
  },
  {
   "cell_type": "code",
   "execution_count": 2,
   "id": "7c5801dc-ef98-43bd-9bc2-37bb272b3970",
   "metadata": {},
   "outputs": [
    {
     "data": {
      "text/plain": [
       "'a'"
      ]
     },
     "execution_count": 2,
     "metadata": {},
     "output_type": "execute_result"
    }
   ],
   "source": [
    "x"
   ]
  },
  {
   "cell_type": "code",
   "execution_count": 4,
   "id": "f3527b4a-d5b7-48e3-9226-8bd09ddb5cf1",
   "metadata": {},
   "outputs": [
    {
     "data": {
      "text/plain": [
       "str"
      ]
     },
     "execution_count": 4,
     "metadata": {},
     "output_type": "execute_result"
    }
   ],
   "source": [
    "type(x)"
   ]
  },
  {
   "cell_type": "markdown",
   "id": "d93d9a27-df1a-4e4a-86f4-f867f6a6b96d",
   "metadata": {},
   "source": [
    "From above example we can see variable x is a character type or string type variable."
   ]
  },
  {
   "cell_type": "markdown",
   "id": "7ceb77a7-a399-46d2-8319-1414d2903876",
   "metadata": {},
   "source": [
    "Ques 2: Apply the following functions on this variable: ‘Welcome to Python foundation course'\n",
    "1. find ()\n",
    "2. count()\n",
    "3. len()\n",
    "4. Concatenation\n",
    "\n",
    "Note: You can use your choice of parameters But make sure it is correct."
   ]
  },
  {
   "cell_type": "code",
   "execution_count": 16,
   "id": "43b8ea93-c8f1-4d8a-92cf-3543c44f50c7",
   "metadata": {},
   "outputs": [],
   "source": [
    "s1 = 'Welcome to Python foundation course.'"
   ]
  },
  {
   "cell_type": "code",
   "execution_count": 7,
   "id": "adc9b3b3-673b-49d0-a302-051a3124f138",
   "metadata": {},
   "outputs": [
    {
     "data": {
      "text/plain": [
       "4"
      ]
     },
     "execution_count": 7,
     "metadata": {},
     "output_type": "execute_result"
    }
   ],
   "source": [
    "s1.find('o')"
   ]
  },
  {
   "cell_type": "code",
   "execution_count": 8,
   "id": "302efd4e-7bae-4f66-8951-7060b2f96168",
   "metadata": {},
   "outputs": [
    {
     "data": {
      "text/plain": [
       "6"
      ]
     },
     "execution_count": 8,
     "metadata": {},
     "output_type": "execute_result"
    }
   ],
   "source": [
    "s1.count('o')"
   ]
  },
  {
   "cell_type": "code",
   "execution_count": 9,
   "id": "4c0de349-5b1f-4583-ae35-5f7fd8698ed5",
   "metadata": {},
   "outputs": [
    {
     "data": {
      "text/plain": [
       "35"
      ]
     },
     "execution_count": 9,
     "metadata": {},
     "output_type": "execute_result"
    }
   ],
   "source": [
    "len(s1)"
   ]
  },
  {
   "cell_type": "code",
   "execution_count": 15,
   "id": "5a63bbb8-3936-44be-84af-5b3b97332210",
   "metadata": {},
   "outputs": [],
   "source": [
    "s2 = 'It is Best Course'"
   ]
  },
  {
   "cell_type": "code",
   "execution_count": 18,
   "id": "7e454889-b041-4af6-ae3d-f3e71195e7b5",
   "metadata": {},
   "outputs": [],
   "source": [
    "s3 = s1 + s2"
   ]
  },
  {
   "cell_type": "code",
   "execution_count": 20,
   "id": "15db65e0-49c6-4f33-87ac-eef0e3993f58",
   "metadata": {},
   "outputs": [
    {
     "data": {
      "text/plain": [
       "'Welcome to Python foundation course.It is Best Course'"
      ]
     },
     "execution_count": 20,
     "metadata": {},
     "output_type": "execute_result"
    }
   ],
   "source": [
    "s3"
   ]
  },
  {
   "cell_type": "markdown",
   "id": "d5dd5ae7-bca7-4408-921b-b471f8e665f0",
   "metadata": {},
   "source": [
    "Ques 3:For the variable: word = 'PanaJi@12256'\n",
    "\n",
    "Calculate the following:\n",
    "\n",
    "(a) Total number of alphabets in lowercase\n",
    "\n",
    "(b) Total number of alphabets in uppercase\n",
    "\n",
    "(c) Total number of numerical in string"
   ]
  },
  {
   "cell_type": "code",
   "execution_count": 21,
   "id": "98e1cd04-a7af-42b4-83c7-5d08a314dd3a",
   "metadata": {},
   "outputs": [],
   "source": [
    "word = 'PanaJi@12256'"
   ]
  },
  {
   "cell_type": "code",
   "execution_count": 22,
   "id": "321c2e44-cd7a-45ca-99f2-321a6eda6cb9",
   "metadata": {},
   "outputs": [
    {
     "data": {
      "text/plain": [
       "'PanaJi@12256'"
      ]
     },
     "execution_count": 22,
     "metadata": {},
     "output_type": "execute_result"
    }
   ],
   "source": [
    "word"
   ]
  },
  {
   "cell_type": "code",
   "execution_count": 25,
   "id": "a2684df5-0d34-4e13-95b0-10febb9d7beb",
   "metadata": {},
   "outputs": [
    {
     "name": "stdout",
     "output_type": "stream",
     "text": [
      "The number of lowercase characters is: 4\n"
     ]
    }
   ],
   "source": [
    "word = 'PanaJi@12256'\n",
    "lower=0\n",
    "upper=0\n",
    "for i in word:\n",
    "\tif(i.islower()):\n",
    "\t\t\tlower+=1\n",
    "\telse:\n",
    "\t\t\tupper+=1\n",
    "print(\"The number of lowercase characters is:\",lower)\n",
    "\n"
   ]
  },
  {
   "cell_type": "code",
   "execution_count": 1,
   "id": "b6fbe836-cac9-41dc-a2cb-1748180ece79",
   "metadata": {},
   "outputs": [
    {
     "name": "stdout",
     "output_type": "stream",
     "text": [
      "The number of uppercase character is: 1\n"
     ]
    }
   ],
   "source": [
    "word = 'Panaji@1234'\n",
    "lower=0\n",
    "upper=0\n",
    "for i in word:\n",
    "    if(i.isupper()):\n",
    "        upper+=1\n",
    "    else:\n",
    "            lower+=1\n",
    "print(\"The number of uppercase character is:\",upper)\n",
    "            \n"
   ]
  },
  {
   "cell_type": "code",
   "execution_count": null,
   "id": "693881d5-ef4f-40c7-95b5-5cf41990cf49",
   "metadata": {},
   "outputs": [],
   "source": []
  }
 ],
 "metadata": {
  "kernelspec": {
   "display_name": "Python 3 (ipykernel)",
   "language": "python",
   "name": "python3"
  },
  "language_info": {
   "codemirror_mode": {
    "name": "ipython",
    "version": 3
   },
   "file_extension": ".py",
   "mimetype": "text/x-python",
   "name": "python",
   "nbconvert_exporter": "python",
   "pygments_lexer": "ipython3",
   "version": "3.10.8"
  }
 },
 "nbformat": 4,
 "nbformat_minor": 5
}
